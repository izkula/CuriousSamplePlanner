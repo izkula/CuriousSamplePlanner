{
 "cells": [
  {
   "cell_type": "code",
   "execution_count": 7,
   "metadata": {},
   "outputs": [],
   "source": [
    "#!/usr/bin/env python\n",
    "from __future__ import print_function\n",
    "import numpy as np\n",
    "import time\n",
    "import random\n",
    "import math\n",
    "import imageio\n",
    "import matplotlib.pyplot as plt\n",
    "import os\n",
    "import shutil\n",
    "import h5py\n",
    "import imageio\n",
    "import networkx as nx\n",
    "from CuriousSamplePlanner.planning_pybullet.pybullet_tools.kuka_primitives import BodyPose, BodyConf, Command, get_grasp_gen, \\\n",
    "    get_ik_fn, get_free_motion_gen, get_holding_motion_gen\n",
    "from CuriousSamplePlanner.planning_pybullet.pybullet_tools.utils import WorldSaver, enable_gravity, connect, dump_world, set_pose, \\\n",
    "    Pose, Point, Euler, set_default_camera, stable_z, \\\n",
    "    BLOCK_URDF, load_model, wait_for_user, disconnect, DRAKE_IIWA_URDF, user_input, update_state, disable_real_time,inverse_kinematics,end_effector_from_body,approach_from_grasp \n",
    "\n",
    "from CuriousSamplePlanner.planning_pybullet.pybullet_tools.kuka_primitives import BodyPath, Attach, Detach\n",
    "import pickle\n",
    "import torch\n",
    "from torchvision import models, transforms\n",
    "from torch import nn\n",
    "import torch.optim as optim\n",
    "from torch.utils.data import Dataset, DataLoader\n",
    "import collections\n",
    "from motion_planners.discrete import astar\n",
    "import sys\n",
    "\n",
    "from CuriousSamplePlanner.trainers.plan_graph import PlanGraph, GraphNode\n"
   ]
  },
  {
   "cell_type": "code",
   "execution_count": 8,
   "metadata": {},
   "outputs": [
    {
     "ename": "FileNotFoundError",
     "evalue": "[Errno 2] No such file or directory: '/mnt/fs0/arc11_2/solution_data/fs1/found_graph.pkl'",
     "output_type": "error",
     "traceback": [
      "\u001b[0;31m---------------------------------------------------------------------------\u001b[0m",
      "\u001b[0;31mFileNotFoundError\u001b[0m                         Traceback (most recent call last)",
      "\u001b[0;32m<ipython-input-8-d6719e873c2c>\u001b[0m in \u001b[0;36m<module>\u001b[0;34m\u001b[0m\n\u001b[1;32m      1\u001b[0m \u001b[0mplan_graph_path\u001b[0m \u001b[0;34m=\u001b[0m \u001b[0;34m\"/mnt/fs0/arc11_2/solution_data/fs1/found_graph.pkl\"\u001b[0m\u001b[0;34m\u001b[0m\u001b[0;34m\u001b[0m\u001b[0m\n\u001b[1;32m      2\u001b[0m \u001b[0mplan_path\u001b[0m \u001b[0;34m=\u001b[0m \u001b[0;34m\"/mnt/fs0/arc11_2/solution_data/fs1/found_path.pkl\"\u001b[0m\u001b[0;34m\u001b[0m\u001b[0;34m\u001b[0m\u001b[0m\n\u001b[0;32m----> 3\u001b[0;31m \u001b[0mplan_graph_filehandler\u001b[0m \u001b[0;34m=\u001b[0m \u001b[0mopen\u001b[0m\u001b[0;34m(\u001b[0m\u001b[0mplan_graph_path\u001b[0m\u001b[0;34m,\u001b[0m \u001b[0;34m'rb'\u001b[0m\u001b[0;34m)\u001b[0m\u001b[0;34m\u001b[0m\u001b[0;34m\u001b[0m\u001b[0m\n\u001b[0m\u001b[1;32m      4\u001b[0m \u001b[0mplan_filehandler\u001b[0m \u001b[0;34m=\u001b[0m \u001b[0mopen\u001b[0m\u001b[0;34m(\u001b[0m\u001b[0mplan_path\u001b[0m\u001b[0;34m,\u001b[0m \u001b[0;34m'rb'\u001b[0m\u001b[0;34m)\u001b[0m\u001b[0;34m\u001b[0m\u001b[0;34m\u001b[0m\u001b[0m\n\u001b[1;32m      5\u001b[0m \u001b[0mplan_graph\u001b[0m \u001b[0;34m=\u001b[0m \u001b[0mpickle\u001b[0m\u001b[0;34m.\u001b[0m\u001b[0mload\u001b[0m\u001b[0;34m(\u001b[0m\u001b[0mplan_graph_filehandler\u001b[0m\u001b[0;34m)\u001b[0m\u001b[0;34m\u001b[0m\u001b[0;34m\u001b[0m\u001b[0m\n",
      "\u001b[0;31mFileNotFoundError\u001b[0m: [Errno 2] No such file or directory: '/mnt/fs0/arc11_2/solution_data/fs1/found_graph.pkl'"
     ]
    }
   ],
   "source": [
    "plan_graph_path = \"/mnt/fs0/arc11_2/solution_data/fs1/found_graph.pkl\"\n",
    "plan_path = \"/mnt/fs0/arc11_2/solution_data/fs1/found_path.pkl\"\n",
    "plan_graph_filehandler = open(plan_graph_path, 'rb')\n",
    "plan_filehandler = open(plan_path, 'rb') \n",
    "plan_graph = pickle.load(plan_graph_filehandler)\n",
    "plan = pickle.load(plan_filehandler)\n",
    "\n",
    "print(plan_graph)\n",
    "print(plan)\n",
    "\n",
    "G=nx.Graph()\n",
    "\n",
    "colormap = []\n",
    "\n",
    "for key, values in plan_graph.plan_graph.items():\n",
    "    G.add_node(key)\n",
    "\n",
    "for key, values in plan_graph.plan_graph.items():\n",
    "    for val in values:\n",
    "        G.add_edge(key, val)\n",
    "\n",
    "for node in G:\n",
    "    print(node.node_key)\n",
    "    print(plan_graph.goal_node.node_key)\n",
    "    if node.node_key in [p.node_key for p in plan]:\n",
    "        if node.node_key == plan_graph.goal_node.node_key or node.node_key == plan_graph.start_node.node_key:\n",
    "            colormap.append(\"#0000FF\")\n",
    "        else:     \n",
    "            colormap.append(\"#00FF00\")       \n",
    "    else:\n",
    "        colormap.append(\"red\")    \n",
    "\n",
    "nx.draw(G, node_color = colormap, node_size=20)\n",
    "plt.show()"
   ]
  },
  {
   "cell_type": "code",
   "execution_count": null,
   "metadata": {},
   "outputs": [],
   "source": []
  }
 ],
 "metadata": {
  "kernelspec": {
   "display_name": "Python 3",
   "language": "python",
   "name": "python3"
  },
  "language_info": {
   "codemirror_mode": {
    "name": "ipython",
    "version": 3
   },
   "file_extension": ".py",
   "mimetype": "text/x-python",
   "name": "python",
   "nbconvert_exporter": "python",
   "pygments_lexer": "ipython3",
   "version": "3.7.4"
  }
 },
 "nbformat": 4,
 "nbformat_minor": 2
}
